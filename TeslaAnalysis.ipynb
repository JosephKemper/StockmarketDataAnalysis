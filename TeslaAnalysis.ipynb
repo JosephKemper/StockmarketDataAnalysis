{
 "cells": [
  {
   "cell_type": "markdown",
   "metadata": {},
   "source": [
    "# Tesla Stock Analysis"
   ]
  },
  {
   "cell_type": "markdown",
   "metadata": {},
   "source": [
    "## About this Project and Me"
   ]
  },
  {
   "cell_type": "markdown",
   "metadata": {},
   "source": [
    "Hello, my name is Joseph Kemper. I am a Business Management student with an emphasis in Computer Programming. My goal behind choosing this project is to demonstrate what I am capable of and to build my skills for future projects. Future projects I have planned involve a large amount of data analysis and this project will serve as a good stepping stone to my long term goals. "
   ]
  },
  {
   "cell_type": "markdown",
   "metadata": {},
   "source": [
    "Goal of Analysis: Find what if any patterns that exist in Tesla Stock performance."
   ]
  },
  {
   "cell_type": "markdown",
   "metadata": {},
   "source": [
    "# Data Preparation"
   ]
  },
  {
   "cell_type": "code",
   "execution_count": 8,
   "metadata": {},
   "outputs": [
    {
     "name": "stdout",
     "output_type": "stream",
     "text": [
      "                                Date   Close/Last        Volume         Open  \\\n",
      "count                           2516  2516.000000  2.516000e+03  2516.000000   \n",
      "mean   2018-11-01 12:19:27.567567360    90.346463  1.141232e+08    90.378079   \n",
      "min              2013-11-01 00:00:00     8.033300  1.065415e+07     7.958700   \n",
      "25%              2016-05-03 18:00:00    15.488975  6.623726e+07    15.518825   \n",
      "50%              2018-10-30 12:00:00    21.321650  9.307683e+07    21.264700   \n",
      "75%              2021-05-03 06:00:00   190.947450  1.340551e+08   191.469950   \n",
      "max              2023-10-31 00:00:00   409.970000  9.140809e+08   411.470000   \n",
      "std                              NaN   107.398548  7.681395e+07   107.498260   \n",
      "\n",
      "              High          Low  \n",
      "count  2516.000000  2516.000000  \n",
      "mean     92.434231    88.214102  \n",
      "min       8.181300     7.740000  \n",
      "25%      15.751825    15.235850  \n",
      "50%      21.644300    20.922350  \n",
      "75%     196.258325   186.032500  \n",
      "max     414.496600   405.666600  \n",
      "std     110.000151   104.814925  \n"
     ]
    }
   ],
   "source": [
    "import pandas\n",
    "import matplotlib.pyplot as plot\n",
    "%matplotlib inline\n",
    "\n",
    "# Load data into DataFrame\n",
    "raw_data = pandas.read_csv ('RawData.csv')\n",
    "\n",
    "# Make Copy of data to clean\n",
    "cleaned_data = raw_data\n",
    "\n",
    "# Prep list of columns to remove dollar sign from\n",
    "columns_to_clean = [\"Close/Last\",\"Open\",\"High\",\"Low\"]\n",
    "\n",
    "# Loop over columns and remove all dollar signs and set all numbers as float\n",
    "for column in columns_to_clean:\n",
    "    cleaned_data [column] = cleaned_data [column].replace({'\\$':''}, regex=True).astype(float)\n",
    "\n",
    "# Convert data in \"Date\" column to a date data type\n",
    "cleaned_data [\"Date\"] = pandas.to_datetime(cleaned_data[\"Date\"])\n",
    "\n",
    "# Convert data in \"Volume\" column to Int64 to better handle large numbers while allowing for the data to handle nullable values\n",
    "cleaned_data [\"Volume\"] = cleaned_data[\"Volume\"].astype(\"int64\")\n",
    "\n",
    "# Save the cleaned data to a new CSV file\n",
    "cleaned_data.to_csv (\"CleanedData.csv\", index=False)\n",
    "\n",
    "# Get the summary statistics\n",
    "summary = cleaned_data.describe()\n",
    "\n",
    "# Print the summary\n",
    "print(summary)"
   ]
  },
  {
   "cell_type": "markdown",
   "metadata": {},
   "source": [
    "# Data Preparation"
   ]
  },
  {
   "cell_type": "code",
   "execution_count": 18,
   "metadata": {},
   "outputs": [],
   "source": [
    "prepped_data = cleaned_data\n",
    "# Adding Volatility measure (defined as High - Low) Column\n",
    "prepped_data [\"Volatility\"] = round(prepped_data[\"High\"] - prepped_data[\"Low\"],2)\n",
    "# Adding average price between high and low values\n",
    "prepped_data [\"HighLowAverage\"] = round((prepped_data[\"High\"] + prepped_data[\"Low\"])/2,2)\n",
    "# Adding column to track days stock gained value\n",
    "prepped_data [\"GainedValue\"] = prepped_data [\"Close/Last\"] - prepped_data[\"Open\"] > 0\n",
    "# Create column containing the day of the week\n",
    "prepped_data [\"DayOfWeek\"] = prepped_data[\"Date\"].dt.day_name()\n",
    "# Create column containing the name of the month\n",
    "prepped_data [\"Month\"] = prepped_data[\"Date\"].dt.month_name()\n",
    "# Create column containing month abbreviation\n",
    "prepped_data [\"MonthAbbr\"] = prepped_data[\"Month\"].str.slice(0,3)\n",
    "# Create column containing the week of the year\n",
    "prepped_data [\"WeekNumber\"] = prepped_data[\"Date\"].dt.isocalendar().week\n",
    "# Create column containing the calendar quarter\n",
    "prepped_data [\"Quarter\"] = prepped_data[\"Date\"].dt.quarter\n",
    "# Create column containing day of the month\n",
    "prepped_data [\"DayOfMonth\"] = prepped_data[\"Date\"].dt.day\n",
    "# Create column containing day of the year\n",
    "prepped_data [\"DayOfYear\"] = prepped_data[\"Date\"].dt.dayofyear\n",
    "\n",
    "prepped_data.to_csv(\"PreppedData.csv\", index=False)"
   ]
  },
  {
   "cell_type": "markdown",
   "metadata": {},
   "source": [
    "# Data Summarization"
   ]
  },
  {
   "cell_type": "markdown",
   "metadata": {},
   "source": [
    "Count of the unique values in the data"
   ]
  },
  {
   "cell_type": "code",
   "execution_count": 19,
   "metadata": {},
   "outputs": [
    {
     "name": "stdout",
     "output_type": "stream",
     "text": [
      "            Column UniqueValues\n",
      "0             Date         2516\n",
      "1       Close/Last         2450\n",
      "2           Volume         2516\n",
      "3             Open         2391\n",
      "4             High         2377\n",
      "5              Low         2401\n",
      "6       Volatility          872\n",
      "7   HighLowAverage         1860\n",
      "8      GainedValue            2\n",
      "9        DayOfWeek            5\n",
      "10           Month           12\n",
      "11       MonthAbbr           12\n",
      "12      WeekNumber           53\n",
      "13         Quarter            4\n",
      "14      DayOfMonth           31\n",
      "15       DayOfYear          364\n"
     ]
    }
   ],
   "source": [
    "# List of columns in data\n",
    "columns_to_count = [\"Date\",\"Close/Last\",\"Volume\",\"Open\",\"High\",\"Low\",\"Volatility\",\"HighLowAverage\",\"GainedValue\",\"DayOfWeek\",\"Month\",\"MonthAbbr\",\"WeekNumber\",\"Quarter\",\"DayOfMonth\",\"DayOfYear\"]\n",
    "\n",
    "# Create a new DataFrame to store values\n",
    "data_point_summary = pandas.DataFrame(columns=[\"Column\", \"UniqueValues\"])\n",
    "\n",
    "# Loop over columns and count each unique data point\n",
    "for column in columns_to_count:\n",
    "    number_unique_values = prepped_data[column].nunique()\n",
    "    new_row = pandas.DataFrame({\"Column\": column, \"UniqueValues\": number_unique_values}, index=[0])\n",
    "    data_point_summary = pandas.concat([data_point_summary, new_row], ignore_index=True)\n",
    "\n",
    "# Show DataFrame\n",
    "print (data_point_summary)"
   ]
  },
  {
   "cell_type": "markdown",
   "metadata": {},
   "source": [
    "#### Question 1: Is price volatility (a wide gap between high and low prices) good or bad for Tesla closing prices?"
   ]
  },
  {
   "cell_type": "code",
   "execution_count": 25,
   "metadata": {},
   "outputs": [
    {
     "name": "stdout",
     "output_type": "stream",
     "text": [
      "count    2516.000000\n",
      "mean        4.220242\n",
      "std         6.351198\n",
      "min         0.140000\n",
      "25%         0.460000\n",
      "50%         0.810000\n",
      "75%         6.920000\n",
      "max        91.310000\n",
      "Name: Volatility, dtype: float64\n",
      "Mode 0.37\n",
      "The mode of 0.37 appears in the data 44 times.\n"
     ]
    }
   ],
   "source": [
    "# Get Volatility statistics\n",
    "volatility_summary = prepped_data[\"Volatility\"].describe()\n",
    "mean_volatility = volatility_summary[\"mean\"]\n",
    "std_volatility = volatility_summary[\"std\"]\n",
    "min_volatility = volatility_summary[\"min\"]\n",
    "first_quartile_volatility = volatility_summary[\"25%\"]\n",
    "median = volatility_summary[\"50%\"]\n",
    "third_quartile_volatility = volatility_summary[\"75%\"]\n",
    "max_volatility = volatility_summary[\"max\"]\n",
    "volatility_mode = prepped_data[\"Volatility\"].mode()\n",
    "volatility_counts = prepped_data[\"Volatility\"].value_counts()\n",
    "\n",
    "\n",
    "print(volatility_summary)\n",
    "print(f\"Mode {volatility_mode[0]}\") \n",
    "print(f\"The mode of 0.37 appears in the data {volatility_counts[0.37]} times.\")"
   ]
  }
 ],
 "metadata": {
  "kernelspec": {
   "display_name": "base",
   "language": "python",
   "name": "python3"
  },
  "language_info": {
   "codemirror_mode": {
    "name": "ipython",
    "version": 3
   },
   "file_extension": ".py",
   "mimetype": "text/x-python",
   "name": "python",
   "nbconvert_exporter": "python",
   "pygments_lexer": "ipython3",
   "version": "3.11.5"
  }
 },
 "nbformat": 4,
 "nbformat_minor": 2
}
