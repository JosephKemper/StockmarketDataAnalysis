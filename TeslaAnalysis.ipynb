{
 "cells": [
  {
   "cell_type": "markdown",
   "metadata": {},
   "source": [
    "# Tesla Stock Analysis"
   ]
  },
  {
   "cell_type": "markdown",
   "metadata": {},
   "source": [
    "## About this Project and Me"
   ]
  },
  {
   "cell_type": "markdown",
   "metadata": {},
   "source": [
    "Hello, my name is Joseph Kemper. I am a Business Management student with an emphasis in Computer Programming. My goal behind choosing this project is to demonstrate what I am capable of and to build my skills for future projects. Future projects I have planned involve a large amount of data analysis and this project will serve as a good stepping stone to my long term goals. "
   ]
  },
  {
   "cell_type": "markdown",
   "metadata": {},
   "source": [
    "Goal of Analysis: Find what if any patterns that exist in Tesla Stock performance."
   ]
  },
  {
   "cell_type": "markdown",
   "metadata": {},
   "source": [
    "# Data Preparation"
   ]
  },
  {
   "cell_type": "code",
   "execution_count": 4,
   "metadata": {},
   "outputs": [
    {
     "name": "stdout",
     "output_type": "stream",
     "text": [
      "                                Date   Close/Last        Volume         Open  \\\n",
      "count                           2516  2516.000000  2.516000e+03  2516.000000   \n",
      "mean   2018-11-01 12:19:27.567567360    90.346463  1.141232e+08    90.378079   \n",
      "min              2013-11-01 00:00:00     8.033300  1.065415e+07     7.958700   \n",
      "25%              2016-05-03 18:00:00    15.488975  6.623726e+07    15.518825   \n",
      "50%              2018-10-30 12:00:00    21.321650  9.307683e+07    21.264700   \n",
      "75%              2021-05-03 06:00:00   190.947450  1.340551e+08   191.469950   \n",
      "max              2023-10-31 00:00:00   409.970000  9.140809e+08   411.470000   \n",
      "std                              NaN   107.398548  7.681395e+07   107.498260   \n",
      "\n",
      "              High          Low  \n",
      "count  2516.000000  2516.000000  \n",
      "mean     92.434231    88.214102  \n",
      "min       8.181300     7.740000  \n",
      "25%      15.751825    15.235850  \n",
      "50%      21.644300    20.922350  \n",
      "75%     196.258325   186.032500  \n",
      "max     414.496600   405.666600  \n",
      "std     110.000151   104.814925  \n"
     ]
    }
   ],
   "source": [
    "import pandas\n",
    "import matplotlib.pyplot as plot\n",
    "%matplotlib inline\n",
    "\n",
    "# Load data into DataFrame\n",
    "raw_data = pandas.read_csv('RawData.csv')\n",
    "\n",
    "# Make Copy of data to clean\n",
    "cleaned_data = raw_data\n",
    "\n",
    "# Prep list of columns to remove dollar sign from\n",
    "columns_to_clean = [\"Close/Last\",\"Open\",\"High\",\"Low\"]\n",
    "\n",
    "# Loop over columns and remove all dollar signs and set all numbers as float\n",
    "for column in columns_to_clean:\n",
    "    cleaned_data[column] = cleaned_data[column].replace({'\\$':''}, regex=True).astype(float)\n",
    "\n",
    "cleaned_data[\"Date\"] = pandas.to_datetime(cleaned_data[\"Date\"])\n",
    "\n",
    "# Save the cleaned data to a new CSV file\n",
    "cleaned_data.to_csv(\"CleanedData.csv\", index=False)\n",
    "\n",
    "# Get the summary statistics\n",
    "summary = cleaned_data.describe()\n",
    "\n",
    "# Print the summary\n",
    "print(summary)"
   ]
  },
  {
   "cell_type": "markdown",
   "metadata": {},
   "source": [
    "# Data Preparation"
   ]
  },
  {
   "cell_type": "code",
   "execution_count": 6,
   "metadata": {},
   "outputs": [],
   "source": [
    "prepped_data = cleaned_data\n",
    "# Create column containing the day of the week\n",
    "prepped_data[\"DayOfWeek\"] = prepped_data[\"Date\"].dt.day_name()\n",
    "# Create column containing the name of the month\n",
    "prepped_data[\"Month\"] = prepped_data[\"Date\"].dt.month_name()\n",
    "# Create column containing month abbreviation\n",
    "prepped_data[\"MonthAbbr\"] = prepped_data[\"Month\"].str.slice(0,3)\n",
    "# Create column containing the week of the year\n",
    "prepped_data [\"WeekNumber\"] = prepped_data[\"Date\"].dt.isocalendar().week\n",
    "# Create column containing the calendar quarter\n",
    "prepped_data [\"Quarter\"] = prepped_data[\"Date\"].dt.quarter\n",
    "# Create column containing day of the month\n",
    "prepped_data [\"DayOfMonth\"] = prepped_data[\"Date\"].dt.day\n",
    "\n",
    "prepped_data.to_csv(\"PreppedData.csv\", index=False)"
   ]
  },
  {
   "cell_type": "markdown",
   "metadata": {},
   "source": [
    "## Initial Data Visualization"
   ]
  },
  {
   "cell_type": "code",
   "execution_count": null,
   "metadata": {},
   "outputs": [],
   "source": []
  }
 ],
 "metadata": {
  "kernelspec": {
   "display_name": "base",
   "language": "python",
   "name": "python3"
  },
  "language_info": {
   "codemirror_mode": {
    "name": "ipython",
    "version": 3
   },
   "file_extension": ".py",
   "mimetype": "text/x-python",
   "name": "python",
   "nbconvert_exporter": "python",
   "pygments_lexer": "ipython3",
   "version": "3.11.5"
  }
 },
 "nbformat": 4,
 "nbformat_minor": 2
}
