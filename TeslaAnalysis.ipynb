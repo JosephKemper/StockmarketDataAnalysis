{
 "cells": [
  {
   "cell_type": "markdown",
   "metadata": {},
   "source": [
    "# Tesla Stock Analysis"
   ]
  },
  {
   "cell_type": "markdown",
   "metadata": {},
   "source": [
    "## About this Project and Me"
   ]
  },
  {
   "cell_type": "markdown",
   "metadata": {},
   "source": [
    "Hello, my name is Joseph Kemper. I am a Business Management student with an emphasis in Computer Programming. I am not a Tesla fanboy. I am not anti Tesla either. I just find people curious and Elon Musk seems to attract many of the most fascinating people I have ever met (for both) those who hate him and love him. I also find it interesting to see the many patterns that exist in life. I have generally found that if you do not find a pattern in something you are looking at (especially when people are involved) that you likely do not understand it well enough. There are obviously exceptions to that, but this project is meant as a way to explore the question \"Are there patterns within the stock market?\" \n",
    "\n",
    "I chose Tesla for this project because in my opinion, there are large swaths of people on both sides who seem to abandon all forms of logic and pursue their passions regardless of the facts, and to me, that screams of opportunities to find a pattern behind their behaviors. People are creatures of habit. Those habits stretch all throughout their lives, across years, decades, and even generations. Listen to enough stories of people from different generations, and you will see patterns evolving. I do not know if there are patterns in the stock market, but if there are I want to find them. \n",
    "\n",
    "No, my goal is not to exploit it and get rich. I believe that the Stock Market, as it currently exists is holding western businesses back and hindering what otherwise could be a massive opportunity. Too many businesses are forced into short term thinking all because of the next quarterly filing the stock market makes them file. When I found out that there are many in the corporate world who think that it is stupid to even think about a 5 year plan, let alone 10 or 20 year plans, I realized just how bad things are. Disney just celebrated its 100th anniversary. There are companies in the United States that [were founded in the 1700's](https://www.businessnewsdaily.com/8122-oldest-companies-in-america.html). What is the problem with building a 100 year business plan? Why should plans be limited to just a year or two? Well that is the influence of the stock market. \n",
    "\n",
    "I seriously doubt I will ever have enough influence to radically transform the way western business as a whole is ran, but I don't care. This is not a project being done to transform anything. It is a project being done out of curiosity, driven by motivations that are far too big for my britches. How could a project like this possibly change anything about the stock market? Realistically it can't. Theoretically, what would happen if suddenly the stock market goes from being what it currently is to predictably bland? Sure, you are likely going to have people trying to take advantage of it, but there would then be laws passed and those laws would likely fail to meet the needs of businesses, which would then force them to turn somewhere else for major financing needs. At which point in time comes the opportunity to wean western businesses off of the short term thinking forcing stock market. \n",
    "\n",
    "Realistically, I just expect to have a lot of fun answering questions about the stock of a company ran by a very fascinating individual."
   ]
  },
  {
   "cell_type": "code",
   "execution_count": 1,
   "metadata": {},
   "outputs": [],
   "source": [
    "import pandas\n",
    "\n",
    "# Load data into DataFrame\n",
    "rawData = pandas.read_csv('RawData.csv')"
   ]
  }
 ],
 "metadata": {
  "kernelspec": {
   "display_name": "base",
   "language": "python",
   "name": "python3"
  },
  "language_info": {
   "codemirror_mode": {
    "name": "ipython",
    "version": 3
   },
   "file_extension": ".py",
   "mimetype": "text/x-python",
   "name": "python",
   "nbconvert_exporter": "python",
   "pygments_lexer": "ipython3",
   "version": "3.11.5"
  }
 },
 "nbformat": 4,
 "nbformat_minor": 2
}
